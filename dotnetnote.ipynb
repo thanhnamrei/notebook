{
 "cells": [
  {
   "cell_type": "code",
   "execution_count": null,
   "metadata": {
    "dotnet_interactive": {
     "language": "fsharp"
    }
   },
   "outputs": [],
   "source": [
    "let ar = [|1;2|]"
   ]
  },
  {
   "cell_type": "code",
   "execution_count": null,
   "metadata": {
    "dotnet_interactive": {
     "language": "csharp"
    }
   },
   "outputs": [
    {
     "data": {
      "text/plain": "Name\r\n"
     },
     "output_type": "unknown"
    },
    {
     "data": {
      "text/plain": "Age\r\n"
     },
     "output_type": "unknown"
    }
   ],
   "source": [
    "class Student {\r\n",
    "    public string Name {get;set;}\r\n",
    "    public int Age {get;set;}\r\n",
    "}\r\n",
    "var student = new Student();\r\n",
    "var props = typeof(Student).GetProperties();\r\n",
    "foreach(var prop in props) \r\n",
    "{\r\n",
    "    System.Console.WriteLine(prop.Name);\r\n",
    "}"
   ]
  },
  {
   "cell_type": "code",
   "execution_count": null,
   "metadata": {},
   "outputs": [
    {
     "data": {
      "text/plain": "11\r\n"
     },
     "output_type": "unknown"
    }
   ],
   "source": [
    "using System.Globalization;\r\n",
    "CultureInfo cul = CultureInfo.GetCultureInfo(\"vi-VN\");\r\n",
    "string a = (11M).ToString(string.Format(\"#,###\", cul.NumberFormat.CurrencyGroupSeparator));\r\n",
    "System.Console.WriteLine(a);"
   ]
  },
  {
   "cell_type": "code",
   "execution_count": null,
   "metadata": {},
   "outputs": [
    {
     "data": {
      "text/plain": "\r\n"
     },
     "output_type": "unknown"
    }
   ],
   "source": [
    "class PackageItem \r\n",
    "{\r\n",
    "    public int Height {get;set;}\r\n",
    "    public int Weight {get;set;}\r\n",
    "}\r\n",
    "\r\n",
    "var ls = new List<PackageItem>() \r\n",
    "{\r\n",
    "};\r\n",
    "string result = ls.Count > 0?  ls.Aggregate(\"\",(result,item) => $\"{item.Height}*{item.Weight},{result}\") : \"\";\r\n",
    "System.Console.WriteLine(result.Trim().TrimEnd(','));\r\n"
   ]
  }
 ],
 "metadata": {
  "kernelspec": {
   "display_name": ".NET (C#)",
   "language": "C#",
   "name": ".net-csharp"
  },
  "language_info": {
   "name": "dotnet-interactive.csharp",
   "version": "3.7.1-final"
  },
  "orig_nbformat": 2
 },
 "nbformat": 4,
 "nbformat_minor": 2
}